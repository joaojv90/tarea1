{
 "cells": [
  {
   "cell_type": "markdown",
   "metadata": {},
   "source": [
    "# Tema 01: Introducción informal (Enunciados)\n"
   ]
  },
  {
   "cell_type": "markdown",
   "metadata": {},
   "source": [
    "**1) El siguiente código pretende realizar una media entre 3 números, pero no funciona correctamente. ¿Eres capaz de identificar el problema y solucionarlo?**"
   ]
  },
  {
   "cell_type": "code",
   "execution_count": 2,
   "metadata": {},
   "outputs": [
    {
     "name": "stdout",
     "output_type": "stream",
     "text": [
      "La nota media es 6.0\n"
     ]
    }
   ],
   "source": [
    "numero1 = 9\n",
    "numero2 = 3\n",
    "numero3 = 6\n",
    "\n",
    "media = (numero1 + numero2 + numero3) / 3\n",
    "print(\"La nota media es\", media)"
   ]
  },
  {
   "cell_type": "markdown",
   "metadata": {},
   "source": [
    "**2) A partir del ejercicio anterior, vamos a suponer que cada número es una nota, y lo que queremos es obtener la nota media. El problema es que cada nota tiene un valor porcentual: **\n",
    "\n",
    "* La primera nota vale un 15% del total\n",
    "* La segunda nota vale un 35% del total\n",
    "* La tercera nota vale un 50% del total\n",
    "\n",
    "**Desarrolla un programa para calcular perfectamente la nota final.**"
   ]
  },
  {
   "cell_type": "code",
   "execution_count": 10,
   "metadata": {},
   "outputs": [
    {
     "name": "stdout",
     "output_type": "stream",
     "text": [
      "la nota final es  5.949999999999999\n"
     ]
    }
   ],
   "source": [
    "nota1 = 10\n",
    "nota2 = 7\n",
    "nota3 = 4\n",
    "# Completa el ejercicio aquí\n",
    "average=(nota1*0.15)+(nota2*0.35)+(nota3*0.5)\n",
    "print('la nota final es ',average)"
   ]
  },
  {
   "cell_type": "markdown",
   "metadata": {},
   "source": [
    "**3) La siguiente matriz (o lista con listas anidadas) debe cumplir una condición, y es que en cada fila, el cuarto elemento siempre debe ser el resultado de sumar los tres primeros. ¿Eres capaz de modificar las sumas incorrectas utilizando la técnica del slicing?**\n",
    "\n",
    "*Ayuda: La función llamada sum(lista) devuelve una suma de todos los elementos de la lista ¡Pruébalo!*"
   ]
  },
  {
   "cell_type": "code",
   "execution_count": 8,
   "metadata": {},
   "outputs": [
    {
     "name": "stdout",
     "output_type": "stream",
     "text": [
      "[[1, 1, 1, 3], [2, 2, 2, 6], [3, 3, 3, 9], [4, 4, 4, 12]]\n"
     ]
    }
   ],
   "source": [
    "matriz = [ \n",
    "    [1, 1, 1, 3],\n",
    "    [2, 2, 2, 7],\n",
    "    [3, 3, 3, 9],\n",
    "    [4, 4, 4, 13]\n",
    "]\n",
    "# Completa el ejercicio aquí\n",
    "matriz[0][3]=sum(matriz[0][:3])\n",
    "matriz[1][3]=sum(matriz[1][:3])\n",
    "matriz[2][3]=sum(matriz[2][:3])\n",
    "matriz[3][3]=sum(matriz[3][:3])\n",
    "print(matriz)"
   ]
  },
  {
   "cell_type": "markdown",
   "metadata": {},
   "source": [
    "**4) Al realizar una consulta en un registro hemos obtenido una cadena de texto corrupta al revés. Al parecer contiene el nombre de un alumno y la nota de un exámen. ¿Cómo podríamos formatear la cadena y conseguir una estructura como la siguiente?:**\n",
    "\n",
    "* ***Nombre*** ***Apellido*** ha sacado un ***Nota*** de nota.\n",
    "\n",
    "*Ayuda: Para voltear una cadena rápidamente utilizando slicing podemos utilizar un tercer índice -1: **cadena[::-1]** *"
   ]
  },
  {
   "cell_type": "code",
   "execution_count": 9,
   "metadata": {},
   "outputs": [
    {
     "name": "stdout",
     "output_type": "stream",
     "text": [
      "Juan Pérez  ha sacado un  10  de nota.\n"
     ]
    }
   ],
   "source": [
    "cadena = \"zeréP nauJ,01\"\n",
    "# Completa el ejercicio aquí\n",
    "cadena = cadena[::-1]\n",
    "print(cadena[3:],' ha sacado un ',cadena[:2],' de nota.')"
   ]
  },
  {
   "cell_type": "markdown",
   "metadata": {},
   "source": [
    "5) Realiza un programa que lea dos números por teclado y permita elegir entre 3 opciones en un menú:\n",
    "\n",
    "    Mostrar una suma de los dos números\n",
    "    Mostrar una resta de los dos números (el primero menos el segundo)\n",
    "    Mostrar una multiplicación de los dos números\n",
    "    En caso de no introducir una opción válida, el programa informará de que no es correcta."
   ]
  },
  {
   "cell_type": "code",
   "execution_count": 1,
   "metadata": {},
   "outputs": [
    {
     "name": "stdout",
     "output_type": "stream",
     "text": [
      "Menu principal\n",
      "1. Sumar\n",
      "2. Restar\n",
      "3. Multiplicar\n",
      "4. Salir\n",
      "Ingrese la opcion:4\n",
      "Adios\n"
     ]
    }
   ],
   "source": [
    "print (\"Menu principal\")\n",
    "while True:\n",
    "    print(\"1. Sumar\")\n",
    "    print(\"2. Restar\")\n",
    "    print(\"3. Multiplicar\")\n",
    "    print(\"4. Salir\")\n",
    "    op=int(input(\"Ingrese la opcion:\"))\n",
    "    if op==1:\n",
    "        num1=int(input('Ingrese el primer número: '))\n",
    "        num2=int(input('Ingrese el segundo número: '))\n",
    "        result=num1+num2\n",
    "        print('El resultado de la suma es: ',result)\n",
    "    elif op==2:\n",
    "        num1=int(input('Ingrese el primer número: '))\n",
    "        num2=int(input('Ingrese el segundo número: '))\n",
    "        result=num1-num2\n",
    "        print('El resultado de la resta es: ',result)\n",
    "    elif op==3:\n",
    "        num1=int(input('Ingrese el primer número: '))\n",
    "        num2=int(input('Ingrese el segundo número: '))\n",
    "        result=num1*num2\n",
    "        print('El resultado de la multiplicación es: ',result)\n",
    "    elif op==4:\n",
    "        print(\"Adios\")\n",
    "        break\n",
    "    else:\n",
    "        print(\"Opcion invalida\")    "
   ]
  },
  {
   "cell_type": "code",
   "execution_count": null,
   "metadata": {},
   "outputs": [],
   "source": []
  }
 ],
 "metadata": {
  "anaconda-cloud": {},
  "kernelspec": {
   "display_name": "Python 3 (ipykernel)",
   "language": "python",
   "name": "python3"
  },
  "language_info": {
   "codemirror_mode": {
    "name": "ipython",
    "version": 3
   },
   "file_extension": ".py",
   "mimetype": "text/x-python",
   "name": "python",
   "nbconvert_exporter": "python",
   "pygments_lexer": "ipython3",
   "version": "3.10.8"
  }
 },
 "nbformat": 4,
 "nbformat_minor": 1
}
