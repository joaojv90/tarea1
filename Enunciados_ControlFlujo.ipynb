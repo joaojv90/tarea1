{
 "cells": [
  {
   "cell_type": "markdown",
   "metadata": {},
   "source": [
    "# Tema 03: Control de flujo (Enunciados)\n"
   ]
  },
  {
   "cell_type": "markdown",
   "metadata": {},
   "source": [
    "**1) Realiza un programa que sume todos los números enteros pares desde el 0 hasta el 100:**\n",
    "\n",
    "*Sugerencia: Puedes utilizar la funciones sum() y range() para hacerlo más fácil. El tercer parámetro en la función range(inicio, fin, salto) indica un salto de números, pruébalo.*"
   ]
  },
  {
   "cell_type": "code",
   "execution_count": 1,
   "metadata": {},
   "outputs": [
    {
     "name": "stdout",
     "output_type": "stream",
     "text": [
      "La suma de todos los pares es:  2550\n"
     ]
    }
   ],
   "source": [
    "# Completa el ejercicio aquí\n",
    "lista=list(range(0,101,2))\n",
    "total=sum(lista)\n",
    "print('La suma de todos los pares es: ',total)\n"
   ]
  },
  {
   "cell_type": "markdown",
   "metadata": {},
   "source": [
    "**2) Realiza un programa que pida al usuario cuantos números quiere introducir. Luego lee todos los números y realiza una media aritmética:**\n"
   ]
  },
  {
   "cell_type": "code",
   "execution_count": 1,
   "metadata": {},
   "outputs": [
    {
     "name": "stdout",
     "output_type": "stream",
     "text": [
      "Ingrese la cantidad de números a promediar: 2\n",
      "Ingrese un número: 5\n",
      "Ingrese un número: 7\n",
      "Los numeros ingresados son:  [5, 7]  y su promedio es:  6.0\n"
     ]
    }
   ],
   "source": [
    "# Completa el ejercicio aquí\n",
    "listaNums=[]\n",
    "nums=int(input('Ingrese la cantidad de números a promediar: '))\n",
    "for i in range(nums):\n",
    "    listaNums.append(int(input('Ingrese un número: ')))\n",
    "total=sum(listaNums)\n",
    "average=total/nums\n",
    "print('Los numeros ingresados son: ', listaNums,' y su promedio es: ',average)"
   ]
  },
  {
   "cell_type": "markdown",
   "metadata": {},
   "source": [
    "**3) Realiza un programa que pida al usuario un número entero del 0 al 9, y que mientras el número no sea correcto se repita el proceso. Luego debe comprobar si el número se encuentra en la lista de números y notificarlo:**\n",
    "\n",
    "*Consejo: La sintaxis \"valor in lista\" permite comprobar fácilmente si un valor se encuentra en una lista (devuelve True o False)*"
   ]
  },
  {
   "cell_type": "code",
   "execution_count": 1,
   "metadata": {},
   "outputs": [
    {
     "name": "stdout",
     "output_type": "stream",
     "text": [
      "Ingrese un número entre 0 y 9: 4\n",
      "El número ingresado no está dentro de la lista, intente nuevamente\n",
      "Ingrese un número entre 0 y 9: 6\n",
      "El número ingresado está en la lista\n"
     ]
    }
   ],
   "source": [
    "# Completa el ejercicio aquí\n",
    "numeros = [1, 3, 6, 9]\n",
    "while True:\n",
    "    inputNums=int(input('Ingrese un número entre 0 y 9: '))\n",
    "    if inputNums>=0 and inputNums<=9:\n",
    "        value=inputNums in numeros\n",
    "        if value==True:\n",
    "            print('El número ingresado está en la lista')\n",
    "            break\n",
    "        else:\n",
    "            print('El número ingresado no está dentro de la lista, intente nuevamente')        \n",
    "    else:\n",
    "        print('Número fuera de rango, intente nuevamente')"
   ]
  },
  {
   "cell_type": "markdown",
   "metadata": {},
   "source": [
    "**4) Utilizando la función range() y la conversión a listas genera las siguientes listas dinámicamente:**\n",
    "* Todos los números del 0 al 10 [0, 1, 2, ..., 10]\n",
    "* Todos los números del -10 al 0 [-10, -9, -8, ..., 0]\n",
    "* Todos los números pares del 0 al 20 [0, 2, 4, ..., 20]\n",
    "* Todos los números impares entre -20 y 0 [-19, -17, -15, ..., -1]\n",
    "* Todos los números múltiples de 5 del 0 al 50 [0, 5, 10, ..., 50]\n",
    "\n",
    "*Pista: Utiliza el tercer parámetro de la función range(inicio, fin, salto).*"
   ]
  },
  {
   "cell_type": "code",
   "execution_count": 1,
   "metadata": {},
   "outputs": [
    {
     "name": "stdout",
     "output_type": "stream",
     "text": [
      "Ingrese el número de lista a imprimir: 4\n",
      "0\n",
      "Desea imprimir otra lista? S / N s\n",
      "Ingrese el número de lista a imprimir: 1\n",
      "[0, 1, 2, 3, 4, 5, 6, 7, 8, 9, 10]\n",
      "Desea imprimir otra lista? S / N s\n",
      "Ingrese el número de lista a imprimir: 2\n",
      "[-10, -9, -8, -7, -6, -5, -4, -3, -2, -1, 0]\n",
      "Desea imprimir otra lista? S / N s\n",
      "Ingrese el número de lista a imprimir: 5\n",
      "[0, 5, 10, 15, 20, 25, 30, 35, 40, 45]\n",
      "Desea imprimir otra lista? S / N n\n",
      "Gracias...\n"
     ]
    }
   ],
   "source": [
    "# Completa el ejercicio\n",
    "lista=False\n",
    "lista1=list(range(0,11))\n",
    "lista2=list(range(-10,1))\n",
    "lista3=list(range(0,21,2))\n",
    "lista4=list(range(-19,0,2))\n",
    "lista5=list(range(0,50,5))\n",
    "while not lista:\n",
    "    op=int(input(\"Ingrese el número de lista a imprimir: \"))\n",
    "    if op==1:\n",
    "        print(lista1)\n",
    "        while True:        \n",
    "            opc=input(\"Desea imprimir otra lista? S / N \")\n",
    "            if opc=='S' or opc=='s':\n",
    "                break\n",
    "            else:\n",
    "                lista=True\n",
    "                print('Gracias...')\n",
    "                break                \n",
    "    elif op==2:\n",
    "        print(lista2)\n",
    "        while True:        \n",
    "            opc=input(\"Desea imprimir otra lista? S / N \")\n",
    "            if opc=='S' or opc=='s':\n",
    "                break\n",
    "            else:\n",
    "                lista=True\n",
    "                print('Gracias...')\n",
    "                break \n",
    "    elif op==3:\n",
    "        print(lista3)\n",
    "        while True:        \n",
    "            opc=input(\"Desea imprimir otra lista? S / N \")\n",
    "            if opc=='S' or opc=='s':\n",
    "                break\n",
    "            else:\n",
    "                lista=True\n",
    "                print('Gracias...')\n",
    "                break \n",
    "    elif op==4:\n",
    "        print(num)\n",
    "        while True:        \n",
    "            opc=input(\"Desea imprimir otra lista? S / N \")\n",
    "            if opc=='S' or opc=='s':\n",
    "                break\n",
    "            else:\n",
    "                lista=True\n",
    "                print('Gracias...')\n",
    "                break \n",
    "    elif op==5:\n",
    "        print(lista5)\n",
    "        while True:        \n",
    "            opc=input(\"Desea imprimir otra lista? S / N \")\n",
    "            if opc=='S' or opc=='s':\n",
    "                break\n",
    "            else:\n",
    "                lista=True\n",
    "                print('Gracias...')\n",
    "                break \n",
    "    else:\n",
    "        print('Gracias...')\n",
    "        break"
   ]
  },
  {
   "cell_type": "code",
   "execution_count": null,
   "metadata": {},
   "outputs": [],
   "source": []
  }
 ],
 "metadata": {
  "anaconda-cloud": {},
  "kernelspec": {
   "display_name": "Python 3 (ipykernel)",
   "language": "python",
   "name": "python3"
  },
  "language_info": {
   "codemirror_mode": {
    "name": "ipython",
    "version": 3
   },
   "file_extension": ".py",
   "mimetype": "text/x-python",
   "name": "python",
   "nbconvert_exporter": "python",
   "pygments_lexer": "ipython3",
   "version": "3.10.8"
  }
 },
 "nbformat": 4,
 "nbformat_minor": 1
}
